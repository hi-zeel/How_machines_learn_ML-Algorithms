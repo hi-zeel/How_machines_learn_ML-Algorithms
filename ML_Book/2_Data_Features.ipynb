{
 "cells": [
  {
   "cell_type": "markdown",
   "id": "fcd4bd4a",
   "metadata": {},
   "source": [
    "\n",
    "# 📘 Chapter 2: Data and Features\n",
    "\n",
    "This chapter explains how data are represented, transformed, and prepared for machine learning models. It uses third-person exposition, clear LaTeX mathematics, and runnable Python examples.\n"
   ]
  },
  {
   "cell_type": "markdown",
   "id": "5b7562ec",
   "metadata": {},
   "source": [
    "\n",
    "## 2.1 The Role of Data in Machine Learning\n",
    "\n",
    "Machine learning systems learn patterns from data. Two central objects are used:\n",
    "\n",
    "- **Features** \\(X\\): input variables describing each observation.  \n",
    "- **Labels** \\(y\\): outputs or responses in supervised learning.\n",
    "\n",
    "The objective is to build a mapping from features \\(X\\) to labels \\(y\\) that generalizes well to unseen data.\n"
   ]
  },
  {
   "cell_type": "markdown",
   "id": "ea8a3487",
   "metadata": {},
   "source": [
    "\n",
    "## 2.2 Mathematical Representation of Features\n",
    "\n",
    "A dataset with \\(n\\) samples and \\(d\\) features is written as\n",
    "\n",
    "$$\n",
    "X =\n",
    "\\begin{bmatrix}\n",
    "x^{(1)} \\\\\n",
    "x^{(2)} \\\\\n",
    "\\vdots \\\\\n",
    "x^{(n)}\n",
    "\\end{bmatrix}\n",
    "=\n",
    "\\begin{bmatrix}\n",
    "x^{(1)}_1 & x^{(1)}_2 & \\dots & x^{(1)}_d \\\\\n",
    "x^{(2)}_1 & x^{(2)}_2 & \\dots & x^{(2)}_d \\\\\n",
    "\\vdots & \\vdots & \\ddots & \\vdots \\\\\n",
    "x^{(n)}_1 & x^{(n)}_2 & \\dots & x^{(n)}_d\n",
    "\\end{bmatrix}\n",
    "\\in \\mathbb{R}^{n \\times d},\n",
    "\\qquad\n",
    "y =\n",
    "\\begin{bmatrix}\n",
    "y^{(1)} \\\\\n",
    "y^{(2)} \\\\\n",
    "\\vdots \\\\\n",
    "y^{(n)}\n",
    "\\end{bmatrix}.\n",
    "$$\n",
    "\n",
    "Each row corresponds to one sample; each column corresponds to one feature.\n"
   ]
  },
  {
   "cell_type": "markdown",
   "id": "cb1e8761",
   "metadata": {},
   "source": [
    "\n",
    "## 2.3 Types of Features\n",
    "\n",
    "1. **Numerical features** — continuous values (e.g., height, temperature).  \n",
    "2. **Categorical features** — discrete categories (e.g., country).  \n",
    "3. **Ordinal features** — categories with order (e.g., small < medium < large).  \n",
    "4. **Binary features** — two states (e.g., yes/no).\n",
    "\n",
    "Categorical and ordinal features usually require numerical encodings before modeling.\n"
   ]
  },
  {
   "cell_type": "markdown",
   "id": "ff564cdc",
   "metadata": {},
   "source": [
    "\n",
    "## 2.4 Feature Scaling\n",
    "\n",
    "Many algorithms are sensitive to feature scales (e.g., KNN, SVM, gradient descent–based models). Two common transformations are:\n",
    "\n",
    "### (a) Normalization (min–max)\n",
    "$$\n",
    "x' = \\frac{x - x_{\\min}}{x_{\\max} - x_{\\min}} \\in [0,1].\n",
    "$$\n",
    "\n",
    "### (b) Standardization (z-score)\n",
    "$$\n",
    "x' = \\frac{x - \\mu}{\\sigma},\n",
    "$$\n",
    "where $(\\mu$) is the mean and $(\\sigma$) is the standard deviation. Standardization produces zero-mean, unit-variance features.\n"
   ]
  },
  {
   "cell_type": "markdown",
   "id": "3ffb24d1",
   "metadata": {},
   "source": [
    "\n",
    "## 2.5 Train–Test Split\n",
    "\n",
    "To estimate generalization performance, the dataset is partitioned into disjoint subsets:\n",
    "\n",
    "$$\n",
    "D = D_{\\text{train}} \\cup D_{\\text{test}},\n",
    "\\qquad\n",
    "D_{\\text{train}} \\cap D_{\\text{test}} = \\varnothing.\n",
    "$$\n",
    "\n",
    "The model is fit on $(D_{\\text{train}}$) and evaluated on $(D_{\\text{test}}$).\n"
   ]
  },
  {
   "cell_type": "markdown",
   "id": "5c98471e",
   "metadata": {},
   "source": [
    "\n",
    "## 2.6 Hands-On: Splitting and Scaling the Iris Dataset\n",
    "\n",
    "The following example demonstrates a typical preprocessing pipeline: train–test split and standardization.\n"
   ]
  },
  {
   "cell_type": "code",
   "execution_count": 1,
   "id": "97d7350a",
   "metadata": {},
   "outputs": [
    {
     "name": "stdout",
     "output_type": "stream",
     "text": [
      "Original (first train row): [4.4 2.9 1.4 0.2]\n",
      "Scaled   (first train row): [-1.72156775 -0.33210111 -1.34572231 -1.32327558]\n",
      "Train shape: (120, 4) Test shape: (30, 4)\n"
     ]
    }
   ],
   "source": [
    "\n",
    "import pandas as pd\n",
    "from sklearn.datasets import load_iris\n",
    "from sklearn.model_selection import train_test_split\n",
    "from sklearn.preprocessing import StandardScaler\n",
    "\n",
    "# Load dataset\n",
    "iris = load_iris()\n",
    "X = pd.DataFrame(iris.data, columns=iris.feature_names)\n",
    "y = iris.target\n",
    "\n",
    "# Train–test split (80% train, 20% test)\n",
    "X_train, X_test, y_train, y_test = train_test_split(\n",
    "    X, y, test_size=0.2, random_state=42, stratify=y\n",
    "    )\n",
    "\n",
    "# Standardization\n",
    "scaler = StandardScaler()\n",
    "X_train_scaled = scaler.fit_transform(X_train)  # fit on train only\n",
    "X_test_scaled = scaler.transform(X_test)        # transform test with same params\n",
    "\n",
    "print(\"Original (first train row):\", X_train.iloc[0].values)\n",
    "print(\"Scaled   (first train row):\", X_train_scaled[0])\n",
    "print(\"Train shape:\", X_train.shape, \"Test shape:\", X_test.shape)\n"
   ]
  },
  {
   "cell_type": "markdown",
   "id": "cb07531c",
   "metadata": {},
   "source": [
    "\n",
    "## 2.7 Encoding Categorical Features (Brief Overview)\n",
    "\n",
    "When features are categorical, encoders map categories to numbers:\n",
    "\n",
    "- **One‑hot encoding**: creates a binary column per category.  \n",
    "- **Ordinal encoding**: maps ordered categories to integers preserving order.\n",
    "\n",
    "These encoders are available in `sklearn.preprocessing` (e.g., `OneHotEncoder`, `OrdinalEncoder`). They will be used later when relevant datasets are introduced.\n"
   ]
  },
  {
   "cell_type": "markdown",
   "id": "31b824e9",
   "metadata": {},
   "source": [
    "\n",
    "## 2.8 Summary\n",
    "\n",
    "- Data are represented by a feature matrix $(X \\in \\mathbb{R}^{n \\times d}$) and labels $(y$).  \n",
    "- Features can be numerical, categorical, ordinal, or binary; categorical/ordinal features require encoding.  \n",
    "- Scaling (normalization or standardization) is essential for many algorithms.  \n",
    "- Proper evaluation requires a disjoint train–test split.  \n",
    "- The Iris dataset example demonstrated splitting and scaling in practice.\n",
    "\n",
    "\n"
   ]
  }
 ],
 "metadata": {
  "kernelspec": {
   "display_name": "ml-gpu",
   "language": "python",
   "name": "python3"
  },
  "language_info": {
   "codemirror_mode": {
    "name": "ipython",
    "version": 3
   },
   "file_extension": ".py",
   "mimetype": "text/x-python",
   "name": "python",
   "nbconvert_exporter": "python",
   "pygments_lexer": "ipython3",
   "version": "3.10.18"
  }
 },
 "nbformat": 4,
 "nbformat_minor": 5
}
