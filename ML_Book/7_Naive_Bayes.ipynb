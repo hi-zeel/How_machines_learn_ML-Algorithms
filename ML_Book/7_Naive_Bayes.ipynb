{
 "cells": [
  {
   "cell_type": "markdown",
   "id": "f09b2e6a",
   "metadata": {},
   "source": [
    "\n",
    "# 📘 Chapter 7: Naive Bayes\n",
    "\n",
    "This chapter introduces **Naive Bayes (NB)**, a family of fast probabilistic classifiers. The exposition follows a third-person, textbook style with clear LaTeX and runnable examples.\n"
   ]
  },
  {
   "cell_type": "markdown",
   "id": "d298f945",
   "metadata": {},
   "source": [
    "\n",
    "## 7.1 Bayes' Theorem\n",
    "\n",
    "For events \\(A\\) and \\(B\\) with \\(P(B) > 0\\), Bayes' theorem states:\n",
    "$$\n",
    "P(A \\mid B) \\;=\\; \\frac{P(B \\mid A)\\,P(A)}{P(B)}.\n",
    "$$\n",
    "\n",
    "In classification with class label \\(y \\in \\{1,\\dots,K\\}\\) and features \\(x\\),\n",
    "$$\n",
    "P(y \\mid x) \\;\\propto\\; P(x \\mid y)\\,P(y).\n",
    "$$\n",
    "The **Bayes classifier** assigns the class with maximal posterior probability:\n",
    "$$\n",
    "\\hat{y}(x) \\;=\\; \\arg\\max_{y} \\; P(x \\mid y)\\,P(y).\n",
    "$$\n"
   ]
  },
  {
   "cell_type": "markdown",
   "id": "2bc8911e",
   "metadata": {},
   "source": [
    "\n",
    "## 7.2 The Naive Conditional Independence Assumption\n",
    "\n",
    "Naive Bayes assumes **conditional independence** of features given the class:\n",
    "$$\n",
    "P(x \\mid y) \\;=\\; \\prod_{j=1}^{d} P(x_j \\mid y).\n",
    "$$\n",
    "Therefore the decision rule becomes\n",
    "$$\n",
    "\\hat{y}(x) \\;=\\; \\arg\\max_{y} \\; P(y)\\,\\prod_{j=1}^{d} P(x_j \\mid y).\n",
    "$$\n",
    "In log-space (for numerical stability),\n",
    "$$\n",
    "\\hat{y}(x) \\;=\\; \\arg\\max_{y} \\Big( \\log P(y) + \\sum_{j=1}^{d} \\log P(x_j \\mid y) \\Big).\n",
    "$$\n"
   ]
  },
  {
   "cell_type": "markdown",
   "id": "3cc512b4",
   "metadata": {},
   "source": [
    "\n",
    "## 7.3 Common Naive Bayes Variants\n",
    "\n",
    "- **Gaussian NB** (continuous features). Each feature is modeled as a class‑conditional Gaussian:\n",
    "  $$\n",
    "  x_j \\mid y=k \\sim \\mathcal{N}(\\mu_{jk},\\,\\sigma_{jk}^2).\n",
    "  $$\n",
    "\n",
    "- **Multinomial NB** (counts / word frequencies). Appropriate for bag‑of‑words text features:\n",
    "  $$\n",
    "  P(x \\mid y=k) \\;\\propto\\; \\prod_{j=1}^{d} \\theta_{jk}^{\\,x_j}, \\quad \\text{with } \\sum_{j}\\theta_{jk}=1.\n",
    "  $$\n",
    "\n",
    "- **Bernoulli NB** (binary features). Suited for presence/absence indicators:\n",
    "  $$\n",
    "  P(x \\mid y=k) \\;=\\; \\prod_{j=1}^{d} \\theta_{jk}^{\\,x_j}\\,(1-\\theta_{jk})^{(1-x_j)}.\n",
    "  $$\n"
   ]
  },
  {
   "cell_type": "markdown",
   "id": "f66f00ad",
   "metadata": {},
   "source": [
    "\n",
    "## 7.4 Prior, Likelihood, and Smoothing\n",
    "\n",
    "- **Prior** $(P(y)$): class frequency estimate.  \n",
    "- **Likelihood** $(P(x_j \\mid y)$): class‑conditional feature model.  \n",
    "- **Laplace / Add‑$(\\alpha$) smoothing** avoids zero probabilities (especially in text):\n",
    "  $$\n",
    "  \\hat{\\theta}_{jk} \\;=\\; \\frac{N_{jk} + \\alpha}{N_{k} + \\alpha\\,d},\n",
    "  $$\n",
    "where $(N_{jk}$) is the count of feature $(j$) in class $(k$), $(N_k$) is the total count over features for class $(k$), $(d$) is the number of features, and $(\\alpha > 0$) (often $(\\alpha=1$)).\n"
   ]
  },
  {
   "cell_type": "markdown",
   "id": "db6ce0fb",
   "metadata": {},
   "source": [
    "\n",
    "## 7.5 Strengths and Limitations\n",
    "\n",
    "**Strengths**  \n",
    "- Extremely fast to train and predict.  \n",
    "- Low memory footprint.  \n",
    "- Strong baseline for text classification.\n",
    "\n",
    "**Limitations**  \n",
    "- Independence assumption rarely holds exactly.  \n",
    "- Continuous features may not be Gaussian.  \n",
    "- Can be outperformed by more flexible models on complex data.\n"
   ]
  },
  {
   "cell_type": "markdown",
   "id": "eeda7033",
   "metadata": {},
   "source": [
    "\n",
    "## 7.6 Hands‑On A: Gaussian Naive Bayes on Iris\n",
    "\n",
    "This example fits **GaussianNB** on the Iris dataset and reports accuracy and a confusion matrix.\n"
   ]
  },
  {
   "cell_type": "code",
   "execution_count": 1,
   "id": "b7a9e9f1",
   "metadata": {},
   "outputs": [
    {
     "name": "stdout",
     "output_type": "stream",
     "text": [
      "Accuracy: 0.9666666666666667\n",
      "\n",
      "Classification report:\n",
      "               precision    recall  f1-score   support\n",
      "\n",
      "      setosa       1.00      1.00      1.00        10\n",
      "  versicolor       1.00      0.90      0.95        10\n",
      "   virginica       0.91      1.00      0.95        10\n",
      "\n",
      "    accuracy                           0.97        30\n",
      "   macro avg       0.97      0.97      0.97        30\n",
      "weighted avg       0.97      0.97      0.97        30\n",
      "\n",
      "\n",
      "Confusion matrix:\n",
      " [[10  0  0]\n",
      " [ 0  9  1]\n",
      " [ 0  0 10]]\n"
     ]
    },
    {
     "data": {
      "image/png": "[encoded data removed]",
      "text/plain": [
       "<Figure size 640x480 with 2 Axes>"
      ]
     },
     "metadata": {},
     "output_type": "display_data"
    }
   ],
   "source": [
    "\n",
    "import pandas as pd\n",
    "import numpy as np\n",
    "from sklearn.datasets import load_iris\n",
    "from sklearn.model_selection import train_test_split\n",
    "from sklearn.naive_bayes import GaussianNB\n",
    "from sklearn.metrics import accuracy_score, classification_report, confusion_matrix\n",
    "import matplotlib.pyplot as plt\n",
    "\n",
    "# Load dataset\n",
    "iris = load_iris()\n",
    "X = pd.DataFrame(iris.data, columns=iris.feature_names)\n",
    "y = iris.target\n",
    "\n",
    "# Split\n",
    "X_train, X_test, y_train, y_test = train_test_split(\n",
    "    X, y, test_size=0.2, random_state=42, stratify=y\n",
    ")\n",
    "\n",
    "# Fit Gaussian NB\n",
    "gnb = GaussianNB()\n",
    "gnb.fit(X_train, y_train)\n",
    "\n",
    "# Evaluate\n",
    "y_pred = gnb.predict(X_test)\n",
    "print(\"Accuracy:\", accuracy_score(y_test, y_pred))\n",
    "print(\"\\nClassification report:\\n\", classification_report(y_test, y_pred, target_names=iris.target_names))\n",
    "print(\"\\nConfusion matrix:\\n\", confusion_matrix(y_test, y_pred))\n",
    "\n",
    "# Optional: simple confusion matrix heatmap (standalone figure, default style)\n",
    "cm = confusion_matrix(y_test, y_pred)\n",
    "plt.figure()\n",
    "plt.imshow(cm)\n",
    "plt.title(\"Confusion Matrix (GaussianNB on Iris)\")\n",
    "plt.xlabel(\"Predicted\")\n",
    "plt.ylabel(\"True\")\n",
    "plt.colorbar()\n",
    "plt.show()\n"
   ]
  },
  {
   "cell_type": "markdown",
   "id": "391de6e3",
   "metadata": {},
   "source": [
    "\n",
    "## 7.7 Hands‑On B: Multinomial NB on a Tiny Text Corpus\n",
    "\n",
    "A miniature example demonstrates **MultinomialNB** on a small bag‑of‑words corpus created in‑notebook (no external downloads). The corpus has two classes.\n"
   ]
  },
  {
   "cell_type": "code",
   "execution_count": 2,
   "id": "f97a0187",
   "metadata": {},
   "outputs": [
    {
     "name": "stdout",
     "output_type": "stream",
     "text": [
      "Predictions for test docs: [1 0 0 1]\n",
      "Training accuracy on tiny corpus (for illustration): 1.0\n"
     ]
    }
   ],
   "source": [
    "\n",
    "from sklearn.feature_extraction.text import CountVectorizer\n",
    "from sklearn.naive_bayes import MultinomialNB\n",
    "from sklearn.pipeline import make_pipeline\n",
    "from sklearn.metrics import accuracy_score\n",
    "\n",
    "# Tiny corpus with two classes: 'tech' (1) and 'food' (0)\n",
    "docs = [\n",
    "    \"python code and algorithms\",\n",
    "    \"neural networks and machine learning\",\n",
    "    \"pandas and numpy for data analysis\",\n",
    "    \"delicious pizza with fresh tomato\",\n",
    "    \"tasty pasta and tomato sauce\",\n",
    "    \"homemade bread and cheese\"\n",
    "]\n",
    "labels = [1, 1, 1, 0, 0, 0]  # 1=tech, 0=food\n",
    "\n",
    "# Vectorize + MultinomialNB pipeline\n",
    "model = make_pipeline(CountVectorizer(), MultinomialNB(alpha=1.0))\n",
    "model.fit(docs, labels)\n",
    "\n",
    "# Test on a few samples\n",
    "test_docs = [\n",
    "    \"learn python and numpy\",\n",
    "    \"fresh tomato pasta\",\n",
    "    \"cheese pizza recipe\",\n",
    "    \"machine learning algorithms\"\n",
    "]\n",
    "y_pred = model.predict(test_docs)\n",
    "\n",
    "print(\"Predictions for test docs:\", y_pred)\n",
    "\n",
    "# Quick holdout-style check (not rigorous due to tiny dataset)\n",
    "acc = accuracy_score(labels, model.predict(docs))\n",
    "print(\"Training accuracy on tiny corpus (for illustration):\", acc)\n"
   ]
  },
  {
   "cell_type": "markdown",
   "id": "05984063",
   "metadata": {},
   "source": [
    "\n",
    "## 7.8 Summary\n",
    "\n",
    "- Naive Bayes applies Bayes' theorem with a **conditional independence** assumption.  \n",
    "- Gaussian, Multinomial, and Bernoulli NB address continuous, count‑based, and binary features respectively.  \n",
    "- Smoothing prevents zero probabilities; log‑space stabilizes computation.  \n",
    "- Despite its simplicity, NB remains a competitive baseline, especially for text.\n",
    "\n"
   ]
  }
 ],
 "metadata": {
  "kernelspec": {
   "display_name": "ml-gpu",
   "language": "python",
   "name": "python3"
  },
  "language_info": {
   "codemirror_mode": {
    "name": "ipython",
    "version": 3
   },
   "file_extension": ".py",
   "mimetype": "text/x-python",
   "name": "python",
   "nbconvert_exporter": "python",
   "pygments_lexer": "ipython3",
   "version": "3.10.18"
  }
 },
 "nbformat": 4,
 "nbformat_minor": 5
}
