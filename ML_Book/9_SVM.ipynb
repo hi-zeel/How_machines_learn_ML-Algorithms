{
 "cells": [
  {
   "cell_type": "markdown",
   "id": "f848ea6c",
   "metadata": {},
   "source": [
    "\n",
    "# 📘 Chapter 9: Support Vector Machines (SVM)\n",
    "\n",
    "This chapter presents **Support Vector Machines (SVM)** for classification. It develops the geometric intuition, the hard‑ and soft‑margin formulations, the hinge loss, and the **kernel trick**. Practical usage is shown with scikit‑learn, including **Linear SVM** and **RBF kernel SVM**, with cross‑validated hyperparameters. The exposition is in **third‑person** textbook style with clean LaTeX.\n"
   ]
  },
  {
   "cell_type": "markdown",
   "id": "14bed62e",
   "metadata": {},
   "source": [
    "## 9.1 Intuition: Maximum‑Margin Classification\n",
    "\n",
    "An SVM seeks a separating hyperplane with the **largest margin** between classes. For a linear model,\n",
    "$$\n",
    "f(x) \\;=\\; w^\\top x + b, \\qquad \\hat{y}(x) = \\mathrm{sign}\\!\\big(f(x)\\big).\n",
    "$$\n",
    "\n",
    "The **geometric margin** between the two closest points (support vectors) is\n",
    "$$\n",
    "\\text{margin} \\;=\\; \\frac{2}{\\lVert w \\rVert_2}.\n",
    "$$\n",
    "Maximizing the margin improves robustness to small perturbations."
   ]
  },
  {
   "cell_type": "markdown",
   "id": "1c7b2dd2",
   "metadata": {},
   "source": [
    "\n",
    "## 9.2 Hard‑Margin and Soft‑Margin SVM\n",
    "\n",
    "### Hard‑margin SVM (linearly separable)\n",
    "\n",
    "The hard‑margin optimization problem is\n",
    "$$\n",
    "\\begin{aligned}\n",
    "\\min_{w,b}\\quad & \\tfrac{1}{2}\\,\\lVert w \\rVert_2^2 \\\\[2pt]\n",
    "\\text{s.t.}\\quad & y^{(i)}\\big(w^\\top x^{(i)} + b\\big) \\;\\ge\\; 1,\\quad i=1,\\dots,n.\n",
    "\\end{aligned}\n",
    "$$\n",
    "This enforces that all points lie **outside** the margin (perfect separation).\n",
    "\n",
    "\n",
    "Most real datasets are **not** perfectly separable. Soft‑margin SVM introduces non‑negative **slack variables** \\(\\xi_i\\) to allow violations:\n",
    "$$\n",
    "\\begin{aligned}\n",
    "\\min_{w,b,\\xi}\\quad & \\tfrac{1}{2}\\lVert w \\rVert_2^2 + C \\sum_{i=1}^{n} \\xi_i \\\\[2pt]\n",
    "\\text{s.t.}\\quad & y^{(i)}\\big(w^\\top x^{(i)} + b\\big) \\;\\ge\\; 1 - \\xi_i,\\quad \\xi_i \\ge 0.\n",
    "\\end{aligned}\n",
    "$$\n",
    "\n",
    "An equivalent unconstrained objective uses the **hinge loss**:\n",
    "$$\n",
    "\\mathcal{L}(w,b) \\;=\\; \\frac{1}{n}\\sum_{i=1}^{n} \\max\\!\\big(0,\\, 1 - y^{(i)} f(x^{(i)})\\big) \\;+\\; \\frac{\\lambda}{2}\\lVert w \\rVert_2^2, \\quad \\lambda \\propto \\tfrac{1}{C}.\n",
    "$$\n",
    "\n",
    "The hyperparameter \\(C > 0\\) trades off **margin width** (regularization) against **violation penalties**.\n"
   ]
  },
  {
   "cell_type": "markdown",
   "id": "de6a8973",
   "metadata": {},
   "source": [
    "\n",
    "## 9.3 Kernels and Feature Maps\n",
    "\n",
    "When the classes are not linearly separable in the input space, SVMs lift inputs via a feature map \\(\\phi(x)\\) and use the **kernel trick**:\n",
    "$$\n",
    "k(x, x') \\;=\\; \\langle \\phi(x), \\phi(x') \\rangle.\n",
    "$$\n",
    "\n",
    "Common kernels:\n",
    "- **Linear:** $(k(x,x') = x^\\top x'$)\n",
    "- **Polynomial:** $(k(x,x') = \\big(\\gamma\\,x^\\top x' + r\\big)^d$)\n",
    "- **RBF (Gaussian):** $(k(x,x') = \\exp\\!\\big(-\\gamma \\lVert x - x' \\rVert_2^2\\big)$\n",
    "- **Sigmoid:** $(k(x,x') = \\tanh(\\gamma\\,x^\\top x' + r)$)   \n",
    "- **Sine:** $(k(x,x') = \\sin(\\gamma\\,x^\\top x' + r)$)   \n",
    "\n",
    "Hyperparameters:\n",
    "- $(C$): misclassification penalty (smaller &(C&) → wider margin, more bias)\n",
    "- $(\\gamma$) (for RBF/poly): kernel width/scale (larger $(\\gamma$) → narrower influence)\n",
    "- $(d$), $(r$) (polynomial): degree and offset"
   ]
  },
  {
   "cell_type": "markdown",
   "id": "88d8c090",
   "metadata": {},
   "source": [
    "\n",
    "## 9.4 Multiclass Strategies\n",
    "\n",
    "SVMs are inherently binary. Multiclass extensions include:\n",
    "- **One‑vs‑Rest (OvR):** train \\(K\\) binary classifiers (class \\(k\\) vs. all).\n",
    "- **One‑vs‑One (OvO):** train a classifier for each class pair (majority vote).\n",
    "\n",
    "Scikit‑learn implements these strategies automatically for `SVC`."
   ]
  },
  {
   "cell_type": "markdown",
   "id": "4c40462c",
   "metadata": {},
   "source": [
    "\n",
    "## 9.5 Practical Notes\n",
    "\n",
    "- **Scale features** (e.g., standardization) before SVMs.  \n",
    "- Use **cross‑validation** to choose \\(C\\) (and \\(\\gamma\\) for RBF).  \n",
    "- For **class imbalance**, consider `class_weight=\"balanced\"` or resampling.  \n",
    "- In scikit‑learn, `LinearSVC` uses a linear kernel with an efficient solver; `SVC(kernel=\"linear\")` is also available.\n"
   ]
  },
  {
   "cell_type": "markdown",
   "id": "749780ee",
   "metadata": {},
   "source": [
    "\n",
    "## 9.6 Hands‑On A: Linear SVM on Iris (with Standardization)\n",
    "\n",
    "A linear SVM is trained using a pipeline. Only \\(C\\) is tuned. The grid search uses a single process (`n_jobs=1`) for reliability on Windows/conda setups.\n"
   ]
  },
  {
   "cell_type": "code",
   "execution_count": 1,
   "id": "82ad7289",
   "metadata": {},
   "outputs": [
    {
     "name": "stdout",
     "output_type": "stream",
     "text": [
      "Fitting 5 folds for each of 8 candidates, totalling 40 fits\n",
      "Best params (Linear SVM): {'svm__C': np.float64(0.13894954943731375)}\n",
      "Best CV accuracy (Linear SVM): 0.9750\n",
      "Test accuracy (Linear SVM): 0.9667\n",
      "\n",
      "Classification report (Linear SVM):\n",
      "               precision    recall  f1-score   support\n",
      "\n",
      "      setosa       1.00      1.00      1.00        10\n",
      "  versicolor       1.00      0.90      0.95        10\n",
      "   virginica       0.91      1.00      0.95        10\n",
      "\n",
      "    accuracy                           0.97        30\n",
      "   macro avg       0.97      0.97      0.97        30\n",
      "weighted avg       0.97      0.97      0.97        30\n",
      "\n",
      "\n",
      "Confusion matrix (Linear SVM):\n",
      " [[10  0  0]\n",
      " [ 0  9  1]\n",
      " [ 0  0 10]]\n"
     ]
    }
   ],
   "source": [
    "\n",
    "import numpy as np\n",
    "import pandas as pd\n",
    "from sklearn.datasets import load_iris\n",
    "from sklearn.model_selection import train_test_split, GridSearchCV\n",
    "from sklearn.preprocessing import StandardScaler\n",
    "from sklearn.pipeline import Pipeline\n",
    "from sklearn.svm import SVC\n",
    "from sklearn.metrics import accuracy_score, classification_report, confusion_matrix\n",
    "\n",
    "# Load dataset\n",
    "iris = load_iris(as_frame=True)\n",
    "X = iris.data\n",
    "y = iris.target\n",
    "\n",
    "# Split\n",
    "X_train, X_test, y_train, y_test = train_test_split(\n",
    "    X, y, test_size=0.2, random_state=42, stratify=y\n",
    ")\n",
    "\n",
    "# Pipeline: scale -> linear SVM\n",
    "pipe_lin = Pipeline([\n",
    "    ('scaler', StandardScaler()),\n",
    "    ('svm', SVC(kernel='linear', random_state=42))\n",
    "])\n",
    "\n",
    "# Grid only on C\n",
    "param_grid_lin = {'svm__C': np.logspace(-3, 2, 8)}\n",
    "\n",
    "# Single-process grid search (avoids TerminatedWorkerError on some Windows setups)\n",
    "grid_lin = GridSearchCV(pipe_lin, param_grid_lin, cv=5, n_jobs=1, verbose=1, error_score='raise')\n",
    "grid_lin.fit(X_train, y_train)\n",
    "\n",
    "print(\"Best params (Linear SVM):\", grid_lin.best_params_)\n",
    "print(\"Best CV accuracy (Linear SVM): %.4f\" % grid_lin.best_score_)\n",
    "\n",
    "# Evaluate on test set\n",
    "best_lin = grid_lin.best_estimator_\n",
    "y_pred_lin = best_lin.predict(X_test)\n",
    "\n",
    "print(\"Test accuracy (Linear SVM): %.4f\" % accuracy_score(y_test, y_pred_lin))\n",
    "print(\"\\nClassification report (Linear SVM):\\n\", classification_report(y_test, y_pred_lin, target_names=iris.target_names))\n",
    "print(\"\\nConfusion matrix (Linear SVM):\\n\", confusion_matrix(y_test, y_pred_lin))\n"
   ]
  },
  {
   "cell_type": "markdown",
   "id": "1b3a1419",
   "metadata": {},
   "source": [
    "\n",
    "## 9.7 Hands‑On B: RBF‑Kernel SVM and Decision Regions (2D Subset)\n",
    "\n",
    "Two informative features (`petal length`, `petal width`) are used for visualization. Both \\(C\\) and \\(\\gamma\\) are tuned; the decision regions are then plotted.\n"
   ]
  },
  {
   "cell_type": "code",
   "execution_count": 2,
   "id": "f3e8a338",
   "metadata": {},
   "outputs": [
    {
     "name": "stdout",
     "output_type": "stream",
     "text": [
      "Fitting 5 folds for each of 64 candidates, totalling 320 fits\n",
      "Best params (RBF SVM): {'svm__C': np.float64(7.196856730011521), 'svm__gamma': np.float64(0.003727593720314938)}\n",
      "Best CV accuracy (RBF SVM): 0.9750\n",
      "Test accuracy (RBF SVM 2D): 0.9667\n"
     ]
    },
    {
     "name": "stderr",
     "output_type": "stream",
     "text": [
      "c:\\Users\\zeelp\\anaconda3\\envs\\ml-gpu\\lib\\site-packages\\sklearn\\utils\\validation.py:2749: UserWarning: X does not have valid feature names, but StandardScaler was fitted with feature names\n",
      "  warnings.warn(\n"
     ]
    },
    {
     "data": {
      "image/png": "[encoded data removed]",
      "text/plain": [
       "<Figure size 640x480 with 1 Axes>"
      ]
     },
     "metadata": {},
     "output_type": "display_data"
    }
   ],
   "source": [
    "\n",
    "# If needed, install deps:\n",
    "# !pip install numpy pandas scikit-learn matplotlib\n",
    "\n",
    "import matplotlib.pyplot as plt\n",
    "from sklearn.svm import SVC\n",
    "\n",
    "# 2D subset for visualization\n",
    "X2 = X[['petal length (cm)', 'petal width (cm)']]\n",
    "X2_train, X2_test, y2_train, y2_test = train_test_split(\n",
    "    X2, y, test_size=0.2, random_state=42, stratify=y\n",
    ")\n",
    "\n",
    "pipe_rbf = Pipeline([\n",
    "    ('scaler', StandardScaler()),\n",
    "    ('svm', SVC(kernel='rbf', random_state=42))\n",
    "])\n",
    "\n",
    "param_grid_rbf = {\n",
    "    'svm__C':     np.logspace(-2, 3, 8),   # 1e-2 ... 1e3\n",
    "    'svm__gamma': np.logspace(-3, 1, 8)    # 1e-3 ... 1e1\n",
    "}\n",
    "\n",
    "grid_rbf = GridSearchCV(pipe_rbf, param_grid_rbf, cv=5, n_jobs=1, verbose=1, error_score='raise')\n",
    "grid_rbf.fit(X2_train, y2_train)\n",
    "\n",
    "print(\"Best params (RBF SVM):\", grid_rbf.best_params_)\n",
    "print(\"Best CV accuracy (RBF SVM): %.4f\" % grid_rbf.best_score_)\n",
    "\n",
    "best_rbf = grid_rbf.best_estimator_\n",
    "y2_pred = best_rbf.predict(X2_test)\n",
    "print(\"Test accuracy (RBF SVM 2D): %.4f\" % accuracy_score(y2_test, y2_pred))\n",
    "\n",
    "# Decision regions (separate figure; default styles)\n",
    "x_min, x_max = X2.iloc[:, 0].min() - 0.5, X2.iloc[:, 0].max() + 0.5\n",
    "y_min, y_max = X2.iloc[:, 1].min() - 0.5, X2.iloc[:, 1].max() + 0.5\n",
    "xx, yy = np.meshgrid(\n",
    "    np.linspace(x_min, x_max, 300),\n",
    "    np.linspace(y_min, y_max, 300)\n",
    ")\n",
    "grid_points = np.c_[xx.ravel(), yy.ravel()]\n",
    "Z = best_rbf.predict(grid_points).reshape(xx.shape)\n",
    "\n",
    "plt.figure()\n",
    "plt.contourf(xx, yy, Z, alpha=0.25)\n",
    "plt.scatter(X2_test.iloc[:, 0], X2_test.iloc[:, 1], s=25, label=\"Test points\")\n",
    "plt.xlabel(\"Petal length (cm)\")\n",
    "plt.ylabel(\"Petal width (cm)\")\n",
    "plt.title(\"RBF SVM decision regions (2D subset)\")\n",
    "plt.legend()\n",
    "plt.show()\n"
   ]
  },
  {
   "cell_type": "markdown",
   "id": "dd3fbcae",
   "metadata": {},
   "source": [
    "\n",
    "## 9.8 Linear vs. RBF: Brief Comparison\n",
    "\n",
    "- **Linear SVM** performs well when classes are (approximately) linearly separable in the scaled feature space.  \n",
    "- **RBF SVM** can capture non‑linear boundaries by implicitly mapping to a higher‑dimensional space.  \n",
    "- Cross‑validation over $(C$) and $(\\gamma$) is essential for RBF kernels."
   ]
  },
  {
   "cell_type": "markdown",
   "id": "f899b9bc",
   "metadata": {},
   "source": [
    "\n",
    "## 9.9 Summary\n",
    "\n",
    "- SVMs implement maximum‑margin classification with hinge loss and regularization.  \n",
    "- Soft margins handle non‑separable data; the \\(C\\) parameter trades off margin width and violations.  \n",
    "- Kernels enable non‑linear decision boundaries; RBF is a robust default choice.  \n",
    "- Proper scaling and cross‑validated hyperparameters are critical in practice.\n",
    "- SVMs are fast and scalable, but are not always optimal.  \n",
    "- SVMs are not always interpretable, but can be used for feature selection.\n"
   ]
  }
 ],
 "metadata": {
  "kernelspec": {
   "display_name": "ml-gpu",
   "language": "python",
   "name": "python3"
  },
  "language_info": {
   "codemirror_mode": {
    "name": "ipython",
    "version": 3
   },
   "file_extension": ".py",
   "mimetype": "text/x-python",
   "name": "python",
   "nbconvert_exporter": "python",
   "pygments_lexer": "ipython3",
   "version": "3.10.18"
  }
 },
 "nbformat": 4,
 "nbformat_minor": 5
}
