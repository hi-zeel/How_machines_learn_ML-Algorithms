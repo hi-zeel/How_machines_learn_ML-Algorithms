{
 "cells": [
  {
   "cell_type": "markdown",
   "id": "9c3bdd92",
   "metadata": {},
   "source": [
    "\n",
    "# 📘 Chapter 3: Classification and Regression\n",
    "\n",
    "This chapter introduces the two fundamental supervised learning tasks in machine learning: **classification** and **regression**. The exposition follows a third-person, textbook style with clear mathematical notation and runnable examples.\n"
   ]
  },
  {
   "cell_type": "markdown",
   "id": "3068d937",
   "metadata": {},
   "source": [
    "\n",
    "## 3.1 Supervised Learning Tasks\n",
    "\n",
    "Supervised learning uses input–output pairs \\((X, y)\\) to learn a mapping from features to labels. The trained model should generalize to unseen data.\n"
   ]
  },
  {
   "cell_type": "markdown",
   "id": "e4cf68a7",
   "metadata": {},
   "source": [
    "\n",
    "## 3.2 Classification\n",
    "\n",
    "**Definition.** Classification predicts a **discrete label** from a fixed set of categories.\n",
    "\n",
    "**Examples.** Spam detection (spam / not spam), digit recognition (0–9), diagnosis categories.\n",
    "\n",
    "**Mathematical formulation.** Given\n",
    "$$\n",
    "D = \\{(x^{(i)}, y^{(i)})\\}_{i=1}^n, \\qquad y^{(i)} \\in \\{1,2,\\dots,K\\},\n",
    "$$\n",
    "the objective is to learn\n",
    "$$\n",
    "h_\\theta : \\mathbb{R}^d \\to \\{1,2,\\dots,K\\}.\n",
    "$$\n"
   ]
  },
  {
   "cell_type": "markdown",
   "id": "136e6ebe",
   "metadata": {},
   "source": [
    "\n",
    "## 3.3 Regression\n",
    "\n",
    "**Definition.** Regression predicts a **continuous value**.\n",
    "\n",
    "**Examples.** Predicting house prices, forecasting temperatures, estimating weight from height.\n",
    "\n",
    "**Mathematical formulation.** For\n",
    "$$\n",
    "D = \\{(x^{(i)}, y^{(i)})\\}_{i=1}^n, \\qquad y^{(i)} \\in \\mathbb{R},\n",
    "$$\n",
    "the objective is to learn\n",
    "$$\n",
    "h_\\theta : \\mathbb{R}^d \\to \\mathbb{R}.\n",
    "$$\n"
   ]
  },
  {
   "cell_type": "markdown",
   "id": "3e336cc6",
   "metadata": {},
   "source": [
    "\n",
    "## 3.4 Key Differences\n",
    "\n",
    "| Aspect          | Classification                          | Regression                         |\n",
    "|-----------------|-----------------------------------------|------------------------------------|\n",
    "| Output type     | Discrete labels                         | Continuous values                  |\n",
    "| Typical losses  | Cross-entropy, hinge                    | MSE (L2), MAE (L1)                 |\n",
    "| Evaluation      | Accuracy, precision, recall, F1-score   | RMSE, $(R^2$)                      |\n",
    "| Example         | Spam / Not spam                         | House price $(=$) €245k            |\n"
   ]
  },
  {
   "cell_type": "markdown",
   "id": "a212f0c7",
   "metadata": {},
   "source": [
    "\n",
    "## 3.5 Example: Iris Classification (Logistic Regression)\n",
    "\n",
    "The Iris dataset is a multi-class classification problem (three species). The workflow below demonstrates train–test split and model fitting.\n"
   ]
  },
  {
   "cell_type": "code",
   "execution_count": 1,
   "id": "6bf6d778",
   "metadata": {},
   "outputs": [
    {
     "name": "stdout",
     "output_type": "stream",
     "text": [
      "Accuracy: 0.9666666666666667\n",
      "\n",
      "Classification report:\n",
      "               precision    recall  f1-score   support\n",
      "\n",
      "      setosa       1.00      1.00      1.00        10\n",
      "  versicolor       1.00      0.90      0.95        10\n",
      "   virginica       0.91      1.00      0.95        10\n",
      "\n",
      "    accuracy                           0.97        30\n",
      "   macro avg       0.97      0.97      0.97        30\n",
      "weighted avg       0.97      0.97      0.97        30\n",
      "\n",
      "\n",
      "Confusion matrix:\n",
      " [[10  0  0]\n",
      " [ 0  9  1]\n",
      " [ 0  0 10]]\n"
     ]
    },
    {
     "name": "stderr",
     "output_type": "stream",
     "text": [
      "c:\\Users\\zeelp\\anaconda3\\envs\\ml-gpu\\lib\\site-packages\\sklearn\\linear_model\\_logistic.py:1272: FutureWarning: 'multi_class' was deprecated in version 1.5 and will be removed in 1.7. From then on, it will always use 'multinomial'. Leave it to its default value to avoid this warning.\n",
      "  warnings.warn(\n"
     ]
    }
   ],
   "source": [
    "\n",
    "import pandas as pd\n",
    "from sklearn.datasets import load_iris\n",
    "from sklearn.model_selection import train_test_split\n",
    "from sklearn.linear_model import LogisticRegression\n",
    "from sklearn.metrics import accuracy_score, classification_report, confusion_matrix\n",
    "\n",
    "# Load dataset\n",
    "iris = load_iris()\n",
    "X = pd.DataFrame(iris.data, columns=iris.feature_names)\n",
    "y = iris.target\n",
    "\n",
    "# Train–test split with stratification to preserve class balance\n",
    "X_train, X_test, y_train, y_test = train_test_split(\n",
    "    X, y, test_size=0.2, random_state=42, stratify=y\n",
    ")\n",
    "\n",
    "# Fit multinomial logistic regression\n",
    "clf = LogisticRegression(max_iter=500, multi_class=\"auto\")\n",
    "clf.fit(X_train, y_train)\n",
    "\n",
    "# Predictions and evaluation\n",
    "y_pred = clf.predict(X_test)\n",
    "\n",
    "print(\"Accuracy:\", accuracy_score(y_test, y_pred))\n",
    "print(\"\\nClassification report:\\n\", classification_report(y_test, y_pred, target_names=iris.target_names))\n",
    "print(\"\\nConfusion matrix:\\n\", confusion_matrix(y_test, y_pred))\n"
   ]
  },
  {
   "cell_type": "markdown",
   "id": "942226aa",
   "metadata": {},
   "source": [
    "\n",
    "## 3.6 Example: Simple Regression (Petal Length → Petal Width)\n",
    "\n",
    "This example treats one Iris feature as the predictor and another as the target to illustrate a basic regression fit.\n"
   ]
  },
  {
   "cell_type": "code",
   "execution_count": 2,
   "id": "02ca9382",
   "metadata": {},
   "outputs": [
    {
     "data": {
      "image/png": "[encoded data removed]",
      "text/plain": [
       "<Figure size 640x480 with 1 Axes>"
      ]
     },
     "metadata": {},
     "output_type": "display_data"
    },
    {
     "name": "stdout",
     "output_type": "stream",
     "text": [
      "Coefficient: [0.41323829]\n",
      "Intercept: -0.35666804105655303\n",
      "MSE: 0.045604284097661846\n",
      "R^2: 0.9282562958836972\n"
     ]
    }
   ],
   "source": [
    "\n",
    "import matplotlib.pyplot as plt\n",
    "from sklearn.linear_model import LinearRegression\n",
    "from sklearn.metrics import mean_squared_error, r2_score\n",
    "\n",
    "# Single-feature regression: petal length -> petal width\n",
    "X_single = X[['petal length (cm)']]\n",
    "y_single = X['petal width (cm)']\n",
    "\n",
    "X_train_r, X_test_r, y_train_r, y_test_r = train_test_split(\n",
    "    X_single, y_single, test_size=0.2, random_state=42\n",
    ")\n",
    "\n",
    "reg = LinearRegression()\n",
    "reg.fit(X_train_r, y_train_r)\n",
    "\n",
    "y_pred_r = reg.predict(X_test_r)\n",
    "\n",
    "# Plot: each chart should be standalone and without explicit colors\n",
    "plt.figure()\n",
    "plt.scatter(X_test_r, y_test_r, label=\"True values\")\n",
    "plt.plot(X_test_r, y_pred_r, label=\"Predictions\")\n",
    "plt.xlabel(\"Petal length (cm)\")\n",
    "plt.ylabel(\"Petal width (cm)\")\n",
    "plt.legend()\n",
    "plt.title(\"Linear Regression: Petal length → Petal width\")\n",
    "plt.show()\n",
    "\n",
    "print(\"Coefficient:\", reg.coef_)\n",
    "print(\"Intercept:\", reg.intercept_)\n",
    "print(\"MSE:\", mean_squared_error(y_test_r, y_pred_r))\n",
    "print(\"R^2:\", r2_score(y_test_r, y_pred_r))\n"
   ]
  },
  {
   "cell_type": "markdown",
   "id": "d1079c50",
   "metadata": {},
   "source": [
    "\n",
    "## 3.7 Summary\n",
    "\n",
    "- **Classification** predicts discrete categories; **regression** predicts continuous values.  \n",
    "- Both tasks are formulated using supervised data \\((X, y)\\).  \n",
    "- Practical examples illustrated: multivariate logistic regression for species classification and univariate linear regression for a simple numerical relationship.\n",
    "\n"
   ]
  }
 ],
 "metadata": {
  "kernelspec": {
   "display_name": "ml-gpu",
   "language": "python",
   "name": "python3"
  },
  "language_info": {
   "codemirror_mode": {
    "name": "ipython",
    "version": 3
   },
   "file_extension": ".py",
   "mimetype": "text/x-python",
   "name": "python",
   "nbconvert_exporter": "python",
   "pygments_lexer": "ipython3",
   "version": "3.10.18"
  }
 },
 "nbformat": 4,
 "nbformat_minor": 5
}
