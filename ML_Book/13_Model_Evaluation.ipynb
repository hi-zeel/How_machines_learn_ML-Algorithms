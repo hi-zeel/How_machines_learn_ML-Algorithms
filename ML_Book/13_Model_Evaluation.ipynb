{
 "cells": [
  {
   "cell_type": "markdown",
   "id": "df905494",
   "metadata": {},
   "source": [
    "\n",
    "# 📘 Chapter 13: Model Evaluation\n",
    "\n",
    "This chapter explores **Model Evaluation**, the process of measuring how well a machine learning model generalizes to unseen data.  \n",
    "The discussion is presented in third‑person, textbook style, with LaTeX equations and practical examples.\n"
   ]
  },
  {
   "cell_type": "markdown",
   "id": "ab402d3c",
   "metadata": {},
   "source": [
    "\n",
    "## 13.1 Why Evaluate?\n",
    "\n",
    "Training accuracy alone is insufficient: a model may **overfit** (memorize training data) or **underfit** (fail to capture patterns).  \n",
    "Evaluation ensures the model is useful for real‑world predictions by assessing generalization on test data.\n"
   ]
  },
  {
   "cell_type": "markdown",
   "id": "394bfd2a",
   "metadata": {},
   "source": [
    "\n",
    "## 13.2 Splitting Data\n",
    "\n",
    "Data is typically divided into subsets:\n",
    "\n",
    "- **Training set**: used to fit the model.  \n",
    "- **Validation set**: used for hyperparameter tuning.  \n",
    "- **Test set**: used once for final evaluation.  \n",
    "\n",
    "Cross‑validation provides a systematic way of averaging performance across multiple train/test splits.\n"
   ]
  },
  {
   "cell_type": "markdown",
   "id": "0dc3dd08",
   "metadata": {},
   "source": [
    "\n",
    "## 13.3 Classification Metrics\n",
    "\n",
    "For binary classification, predictions are summarized in a **confusion matrix**:\n",
    "\n",
    "|                | Predicted Positive | Predicted Negative |\n",
    "|----------------|--------------------|--------------------|\n",
    "| **Actual Positive** | True Positive (TP)   | False Negative (FN)  |\n",
    "| **Actual Negative** | False Positive (FP)  | True Negative (TN)   |\n",
    "\n",
    "From this:\n",
    "\n",
    "- **Accuracy**:\n",
    "$$\n",
    "\\text{Acc} = \\frac{TP + TN}{TP + TN + FP + FN}\n",
    "$$\n",
    "\n",
    "- **Precision**:\n",
    "$$\n",
    "\\text{Prec} = \\frac{TP}{TP + FP}\n",
    "$$\n",
    "\n",
    "- **Recall (Sensitivity)**:\n",
    "$$\n",
    "\\text{Rec} = \\frac{TP}{TP + FN}\n",
    "$$\n",
    "\n",
    "- **F1 Score** (harmonic mean):\n",
    "$$\n",
    "F1 = 2 \\cdot \\frac{\\text{Prec}\\cdot \\text{Rec}}{\\text{Prec} + \\text{Rec}}\n",
    "$$\n"
   ]
  },
  {
   "cell_type": "markdown",
   "id": "fa2ae8f2",
   "metadata": {},
   "source": [
    "\n",
    "## 13.4 Regression Metrics\n",
    "\n",
    "For regression tasks, common metrics are:\n",
    "\n",
    "- **Mean Squared Error (MSE):**\n",
    "$$\n",
    "\\text{MSE} = \\frac{1}{n}\\sum_{i=1}^n (y_i - \\hat{y}_i)^2\n",
    "$$\n",
    "\n",
    "- **Mean Absolute Error (MAE):**\n",
    "$$\n",
    "\\text{MAE} = \\frac{1}{n}\\sum_{i=1}^n |y_i - \\hat{y}_i|\n",
    "$$\n",
    "\n",
    "- **Coefficient of Determination (\\(R^2\\)):**\n",
    "$$\n",
    "R^2 = 1 - \\frac{\\sum_{i=1}^n (y_i - \\hat{y}_i)^2}{\\sum_{i=1}^n (y_i - \\bar{y})^2}\n",
    "$$\n"
   ]
  },
  {
   "cell_type": "markdown",
   "id": "6633a886",
   "metadata": {},
   "source": [
    "\n",
    "## 13.5 Hands‑On A: Logistic Regression on Iris\n",
    "\n",
    "Train a classifier on two Iris classes and evaluate metrics.\n"
   ]
  },
  {
   "cell_type": "code",
   "execution_count": 1,
   "id": "f3436152",
   "metadata": {},
   "outputs": [
    {
     "name": "stdout",
     "output_type": "stream",
     "text": [
      "Confusion Matrix:\n",
      " [[15  0]\n",
      " [ 0 15]]\n",
      "\n",
      "Classification Report:\n",
      "               precision    recall  f1-score   support\n",
      "\n",
      "           0       1.00      1.00      1.00        15\n",
      "           1       1.00      1.00      1.00        15\n",
      "\n",
      "    accuracy                           1.00        30\n",
      "   macro avg       1.00      1.00      1.00        30\n",
      "weighted avg       1.00      1.00      1.00        30\n",
      "\n"
     ]
    }
   ],
   "source": [
    "\n",
    "import numpy as np\n",
    "import matplotlib.pyplot as plt\n",
    "from sklearn.datasets import load_iris\n",
    "from sklearn.linear_model import LogisticRegression\n",
    "from sklearn.metrics import confusion_matrix, classification_report, roc_curve, auc\n",
    "from sklearn.model_selection import train_test_split\n",
    "\n",
    "# Use only 2 classes for binary classification (setosa vs versicolor)\n",
    "iris = load_iris()\n",
    "X = iris.data[iris.target != 2, :2]  # two features, two classes\n",
    "y = iris.target[iris.target != 2]\n",
    "\n",
    "# Train/test split\n",
    "X_train, X_test, y_train, y_test = train_test_split(X, y, test_size=0.3, random_state=42, stratify=y)\n",
    "\n",
    "# Fit logistic regression\n",
    "clf = LogisticRegression().fit(X_train, y_train)\n",
    "y_pred = clf.predict(X_test)\n",
    "\n",
    "# Confusion matrix\n",
    "cm = confusion_matrix(y_test, y_pred)\n",
    "print(\"Confusion Matrix:\\n\", cm)\n",
    "\n",
    "# Classification report\n",
    "print(\"\\nClassification Report:\\n\", classification_report(y_test, y_pred))\n"
   ]
  },
  {
   "cell_type": "markdown",
   "id": "9d378082",
   "metadata": {},
   "source": [
    "\n",
    "## 13.6 ROC Curve and AUC\n",
    "\n",
    "The **Receiver Operating Characteristic (ROC)** curve plots True Positive Rate (TPR) against False Positive Rate (FPR) at different thresholds.  \n",
    "The **Area Under the Curve (AUC)** summarizes performance: 1.0 is perfect, 0.5 is random guessing.\n"
   ]
  },
  {
   "cell_type": "code",
   "execution_count": 2,
   "id": "5ef4a48f",
   "metadata": {},
   "outputs": [
    {
     "data": {
      "image/png": "[encoded data removed]",
      "text/plain": [
       "<Figure size 640x480 with 1 Axes>"
      ]
     },
     "metadata": {},
     "output_type": "display_data"
    }
   ],
   "source": [
    "\n",
    "# Compute ROC curve\n",
    "y_prob = clf.predict_proba(X_test)[:, 1]\n",
    "fpr, tpr, thresholds = roc_curve(y_test, y_prob)\n",
    "roc_auc = auc(fpr, tpr)\n",
    "\n",
    "plt.figure()\n",
    "plt.plot(fpr, tpr, label=\"ROC curve (AUC = %.2f)\" % roc_auc)\n",
    "plt.plot([0, 1], [0, 1], linestyle=\"--\")\n",
    "plt.xlabel(\"False Positive Rate\")\n",
    "plt.ylabel(\"True Positive Rate\")\n",
    "plt.title(\"ROC Curve\")\n",
    "plt.legend()\n",
    "plt.show()\n"
   ]
  },
  {
   "cell_type": "markdown",
   "id": "45a212e5",
   "metadata": {},
   "source": [
    "\n",
    "## 13.7 Cross‑Validation\n",
    "\n",
    "Rather than relying on a single train/test split, **k‑fold cross‑validation** partitions the data into \\(k\\) folds.  \n",
    "Each fold serves once as validation, and performance is averaged over folds.\n"
   ]
  },
  {
   "cell_type": "code",
   "execution_count": 3,
   "id": "ee4f3458",
   "metadata": {},
   "outputs": [
    {
     "name": "stdout",
     "output_type": "stream",
     "text": [
      "Cross-validation scores: [1. 1. 1. 1. 1.]\n",
      "Mean accuracy: 1.000\n"
     ]
    }
   ],
   "source": [
    "\n",
    "from sklearn.model_selection import cross_val_score\n",
    "\n",
    "scores = cross_val_score(LogisticRegression(), X, y, cv=5)\n",
    "print(\"Cross-validation scores:\", scores)\n",
    "print(\"Mean accuracy: %.3f\" % scores.mean())\n"
   ]
  },
  {
   "cell_type": "markdown",
   "id": "c27efbd6",
   "metadata": {},
   "source": [
    "\n",
    "## 13.8 Bias–Variance Trade‑Off\n",
    "\n",
    "- **High bias (underfitting):** model too simple, misses patterns.  \n",
    "- **High variance (overfitting):** model too complex, fits noise.  \n",
    "- Proper evaluation balances these by choosing appropriate complexity.\n"
   ]
  },
  {
   "cell_type": "markdown",
   "id": "3fa11de3",
   "metadata": {},
   "source": [
    "\n",
    "## 13.9 Summary\n",
    "\n",
    "- Classification metrics: accuracy, precision, recall, F1, ROC, AUC.  \n",
    "- Regression metrics: MSE, MAE, \\(R^2\\).  \n",
    "- Confusion matrices and ROC curves visualize performance.  \n",
    "- Cross‑validation provides robust estimates.  \n",
    "- Model evaluation helps guard against overfitting and underfitting.\n"
   ]
  }
 ],
 "metadata": {
  "kernelspec": {
   "display_name": "ml-gpu",
   "language": "python",
   "name": "python3"
  },
  "language_info": {
   "codemirror_mode": {
    "name": "ipython",
    "version": 3
   },
   "file_extension": ".py",
   "mimetype": "text/x-python",
   "name": "python",
   "nbconvert_exporter": "python",
   "pygments_lexer": "ipython3",
   "version": "3.10.18"
  }
 },
 "nbformat": 4,
 "nbformat_minor": 5
}
